{
 "cells": [
  {
   "cell_type": "code",
   "execution_count": 1,
   "metadata": {},
   "outputs": [],
   "source": [
    "import pandas as pd\n",
    "import numpy as np\n",
    "import string\n",
    "import pickle\n",
    "from sklearn.metrics import classification_report,confusion_matrix\n",
    "from sklearn.linear_model import LogisticRegression\n",
    "from sklearn.feature_extraction.text import TfidfVectorizer\n",
    "from sklearn.model_selection import train_test_split"
   ]
  },
  {
   "cell_type": "code",
   "execution_count": 2,
   "metadata": {},
   "outputs": [],
   "source": [
    "\n",
    "data_path = './data/twitter_MBTI.csv'\n",
    "\n",
    "\n",
    "data = pd.read_csv(data_path,header=None)\n",
    "train_data, test_and_valid_data = train_test_split(data, test_size=0.2, random_state=42)\n",
    "valid_data, test_data = train_test_split(test_and_valid_data, test_size=0.5, random_state=42)\n",
    "vectorizer = TfidfVectorizer(lowercase=False)\n",
    "\n",
    "content = train_data.iloc[:,1]\n",
    "\n",
    "X = vectorizer.fit_transform(content)\n",
    "Y = train_data.iloc[:,2]\n",
    "\n",
    "Y_test = test_data.iloc[:,2]\n",
    "X_test_content = test_data.iloc[:,1]\n",
    "\n",
    "X_test = vectorizer.transform(X_test_content)\n"
   ]
  },
  {
   "cell_type": "code",
   "execution_count": 3,
   "metadata": {},
   "outputs": [],
   "source": [
    "lr_classifier = LogisticRegression(multi_class = 'multinomial',solver='newton-cg',max_iter = 1000).fit(X, Y)\n"
   ]
  },
  {
   "cell_type": "code",
   "execution_count": 4,
   "metadata": {},
   "outputs": [
    {
     "name": "stdout",
     "output_type": "stream",
     "text": [
      "              precision    recall  f1-score   support\n",
      "\n",
      "        enfj     0.8333    0.0909    0.1639        55\n",
      "        enfp     0.8571    0.1846    0.3038        65\n",
      "        entj     0.0000    0.0000    0.0000        28\n",
      "        entp     1.0000    0.0735    0.1370        68\n",
      "        esfj     0.0000    0.0000    0.0000        12\n",
      "        esfp     0.0000    0.0000    0.0000        16\n",
      "        estj     0.0000    0.0000    0.0000         3\n",
      "        estp     0.0000    0.0000    0.0000         8\n",
      "        infj     0.2898    0.6574    0.4023       108\n",
      "        infp     0.2343    0.7214    0.3538       140\n",
      "        intj     0.2857    0.2400    0.2609        75\n",
      "        intp     0.7222    0.1646    0.2680        79\n",
      "        isfj     0.0000    0.0000    0.0000        35\n",
      "        isfp     0.0000    0.0000    0.0000        47\n",
      "        istj     0.0000    0.0000    0.0000        17\n",
      "        istp     0.0000    0.0000    0.0000        26\n",
      "\n",
      "    accuracy                         0.2877       782\n",
      "   macro avg     0.2639    0.1333    0.1181       782\n",
      "weighted avg     0.3992    0.2877    0.2197       782\n",
      "\n"
     ]
    },
    {
     "name": "stderr",
     "output_type": "stream",
     "text": [
      "/Users/vincent/Documents/Study/Software/anaconda3/envs/py3.8/lib/python3.8/site-packages/sklearn/metrics/_classification.py:1327: UndefinedMetricWarning: Precision and F-score are ill-defined and being set to 0.0 in labels with no predicted samples. Use `zero_division` parameter to control this behavior.\n",
      "  _warn_prf(average, modifier, msg_start, len(result))\n",
      "/Users/vincent/Documents/Study/Software/anaconda3/envs/py3.8/lib/python3.8/site-packages/sklearn/metrics/_classification.py:1327: UndefinedMetricWarning: Precision and F-score are ill-defined and being set to 0.0 in labels with no predicted samples. Use `zero_division` parameter to control this behavior.\n",
      "  _warn_prf(average, modifier, msg_start, len(result))\n",
      "/Users/vincent/Documents/Study/Software/anaconda3/envs/py3.8/lib/python3.8/site-packages/sklearn/metrics/_classification.py:1327: UndefinedMetricWarning: Precision and F-score are ill-defined and being set to 0.0 in labels with no predicted samples. Use `zero_division` parameter to control this behavior.\n",
      "  _warn_prf(average, modifier, msg_start, len(result))\n"
     ]
    }
   ],
   "source": [
    "Y_lr_predict = lr_classifier.predict(X_test)\n",
    "print(classification_report(Y_test, Y_lr_predict, digits=4))"
   ]
  }
 ],
 "metadata": {
  "kernelspec": {
   "display_name": "py3.8",
   "language": "python",
   "name": "python3"
  },
  "language_info": {
   "codemirror_mode": {
    "name": "ipython",
    "version": 3
   },
   "file_extension": ".py",
   "mimetype": "text/x-python",
   "name": "python",
   "nbconvert_exporter": "python",
   "pygments_lexer": "ipython3",
   "version": "3.8.16"
  }
 },
 "nbformat": 4,
 "nbformat_minor": 2
}
